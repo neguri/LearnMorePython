{
  "nbformat": 4,
  "nbformat_minor": 0,
  "metadata": {
    "colab": {
      "provenance": [],
      "authorship_tag": "ABX9TyN2oMiFUyccEZZnqro5vEnP",
      "include_colab_link": true
    },
    "kernelspec": {
      "name": "python3",
      "display_name": "Python 3"
    },
    "language_info": {
      "name": "python"
    }
  },
  "cells": [
    {
      "cell_type": "markdown",
      "metadata": {
        "id": "view-in-github",
        "colab_type": "text"
      },
      "source": [
        "<a href=\"https://colab.research.google.com/github/neguri/LearnMorePython/blob/master/%ED%8C%8C%EC%9D%B4%EC%8D%AC%EC%BD%94%EB%94%A9%EC%9D%98%EA%B8%B0%EC%88%A0.ipynb\" target=\"_parent\"><img src=\"https://colab.research.google.com/assets/colab-badge.svg\" alt=\"Open In Colab\"/></a>"
      ]
    },
    {
      "cell_type": "code",
      "execution_count": 12,
      "metadata": {
        "id": "Q-Gzq6ciK_oF"
      },
      "outputs": [],
      "source": [
        "def index_words(text):\n",
        "  result = []\n",
        "  if text:\n",
        "    result.append(0)\n",
        "  for index, letter in enumerate(text):\n",
        "    if letter == ' ':\n",
        "      result.append(index+1)\n",
        "  return result"
      ]
    },
    {
      "cell_type": "code",
      "source": [
        "address = '컴퓨터(영어: Computer, 문화어: 콤퓨터, 순화어: 전산기)는 진공관'"
      ],
      "metadata": {
        "id": "ZkLgeXofL23l"
      },
      "execution_count": 13,
      "outputs": []
    },
    {
      "cell_type": "code",
      "source": [
        "result = index_words(address)"
      ],
      "metadata": {
        "id": "sPn1UewFMRUD"
      },
      "execution_count": 14,
      "outputs": []
    },
    {
      "cell_type": "code",
      "source": [
        "print(result)"
      ],
      "metadata": {
        "colab": {
          "base_uri": "https://localhost:8080/"
        },
        "id": "4hlo7YBMMVWE",
        "outputId": "92fe9959-b690-49af-fc54-619671fe1878"
      },
      "execution_count": 8,
      "outputs": [
        {
          "output_type": "stream",
          "name": "stdout",
          "text": [
            "[0, 8, 18, 23, 28, 33, 39]\n"
          ]
        }
      ]
    },
    {
      "cell_type": "code",
      "source": [
        "def index_words_iter(text):\n",
        "  if text:\n",
        "    yield 0\n",
        "  for index, letter in enumerate(text):\n",
        "    if letter == ' ':\n",
        "      yield index + 1"
      ],
      "metadata": {
        "id": "Ef3OGTROMWY3"
      },
      "execution_count": 15,
      "outputs": []
    },
    {
      "cell_type": "code",
      "source": [
        "it = index_words_iter(address)"
      ],
      "metadata": {
        "id": "oLWh6nwSOwfg"
      },
      "execution_count": 16,
      "outputs": []
    },
    {
      "cell_type": "code",
      "source": [
        "print(type(it), it)"
      ],
      "metadata": {
        "colab": {
          "base_uri": "https://localhost:8080/"
        },
        "id": "Tce0xgtJO7cu",
        "outputId": "8fa319b4-f914-47b3-9289-9e99ff86b2ae"
      },
      "execution_count": 17,
      "outputs": [
        {
          "output_type": "stream",
          "name": "stdout",
          "text": [
            "<class 'generator'> <generator object index_words_iter at 0x7f64ac15c9e0>\n"
          ]
        }
      ]
    },
    {
      "cell_type": "code",
      "source": [
        "print(*it)"
      ],
      "metadata": {
        "colab": {
          "base_uri": "https://localhost:8080/"
        },
        "id": "i-ogxTnlO9Ve",
        "outputId": "3a337fae-edfd-4467-e9dc-c619a6c6610d"
      },
      "execution_count": 21,
      "outputs": [
        {
          "output_type": "stream",
          "name": "stdout",
          "text": [
            "23 28 33 39\n"
          ]
        }
      ]
    },
    {
      "cell_type": "code",
      "source": [],
      "metadata": {
        "id": "PgXnJvnPPHZX"
      },
      "execution_count": null,
      "outputs": []
    }
  ]
}